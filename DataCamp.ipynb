{
 "cells": [
  {
   "cell_type": "markdown",
   "id": "static-alarm",
   "metadata": {},
   "source": [
    "## Scrapping Fairlabor website"
   ]
  },
  {
   "cell_type": "code",
   "execution_count": null,
   "id": "existing-stationery",
   "metadata": {},
   "outputs": [],
   "source": [
    "\n",
    "\n",
    "from lxml import html\n",
    "import requests\n",
    "base_link = \"https://www.fairlabor.org/affiliates/participating-companies?page=\"\n",
    "brandsLink = []\n",
    "for i in range(0,5):\n",
    "    page = requests.get(base_link+str(i))\n",
    "    tree = html.fromstring(page.content)\n",
    "    brandsLink.append(tree.xpath('//div[@class=\"field-content\"]//a//@href'))\n",
    "print(brandsLink)\n"
   ]
  },
  {
   "cell_type": "code",
   "execution_count": 80,
   "id": "million-swimming",
   "metadata": {},
   "outputs": [
    {
     "name": "stdout",
     "output_type": "stream",
     "text": [
      "['adidas', 'amer-sports', 'antigua-group-inc', 'arena-group', 'barnes-noble-college-booksellers', 'bella-canvas', 'burton', 'colosseum', 'cutter-buck-inc', 'fall-rush', 'fanatics', 'fast-retailing', 'fenix-outdoor', 'fgv-holdings', 'follett-higher-education-group', 'forty-seven-brand', 'fruit-loom', 'gildan-activewear-inc', 'gore-wear', 'gymshark', 'hanesbrands', 'hugo-boss', 'hybrid-apparel', 'j-america-inc', 'kathmandu', 'l2-brands', 'lakeshirts-inc', 'lululemon', 'mountain-equipment-co-op', 'mv-sport-game-inc', 'nestle', 'new-balance-athletics-inc', 'new-era-cap-co-inc', 'nike-inc', 'olam', 'outerknown', 'outerstuff-ltd', 'patagonia', 'popsockets', 'prana', 'puma-se', 'sanmar-corporation', 'sitka-group', 'gore-wear', 'syngenta', 'soliver-group', 'toms-shoes', 'top-world-llc', 'under-armour', 'volcom-llc', 'zephyr-graf-x']\n"
     ]
    }
   ],
   "source": [
    "import itertools\n",
    "finalBrands_link = []\n",
    "brandsLink= list(itertools.chain.from_iterable(brandsLink)) #Convert list of lists to one list\n",
    "for i in range(len(brandsLink)): # get list of companies\n",
    "    if(\"/affiliate/\" in brandsLink[i]):\n",
    "        finalBrands_link.append(brandsLink[i].split(\"/affiliate/\",1)[1])\n",
    "print(finalBrands_link)"
   ]
  },
  {
   "cell_type": "code",
   "execution_count": 86,
   "id": "sharing-martial",
   "metadata": {},
   "outputs": [],
   "source": [
    "#Save CSV file\n",
    "import pandas as pd\n",
    "df = pd.DataFrame(finalBrands_link)  \n",
    "df.to_csv('/home/nesma/Desktop/Hackathon/Fair Labour Association.csv') "
   ]
  },
  {
   "cell_type": "markdown",
   "id": "noticed-consultation",
   "metadata": {},
   "source": [
    "## Get list of bluesign companies from pdf to excel sheet"
   ]
  },
  {
   "cell_type": "code",
   "execution_count": 98,
   "id": "legitimate-payday",
   "metadata": {},
   "outputs": [
    {
     "name": "stderr",
     "output_type": "stream",
     "text": [
      "Got stderr: Mar 18, 2021 8:46:02 PM org.apache.pdfbox.rendering.PDFRenderer suggestKCMS\n",
      "INFO: Your current java version is: 1.8.0_181\n",
      "Mar 18, 2021 8:46:02 PM org.apache.pdfbox.rendering.PDFRenderer suggestKCMS\n",
      "INFO: To get higher rendering speed on old java 1.8 or 9 versions,\n",
      "Mar 18, 2021 8:46:02 PM org.apache.pdfbox.rendering.PDFRenderer suggestKCMS\n",
      "INFO:   update to the latest 1.8 or 9 version (>= 1.8.0_191 or >= 9.0.4),\n",
      "Mar 18, 2021 8:46:02 PM org.apache.pdfbox.rendering.PDFRenderer suggestKCMS\n",
      "INFO:   or\n",
      "Mar 18, 2021 8:46:02 PM org.apache.pdfbox.rendering.PDFRenderer suggestKCMS\n",
      "INFO:   use the option -Dsun.java2d.cmm=sun.java2d.cmm.kcms.KcmsServiceProvider\n",
      "Mar 18, 2021 8:46:02 PM org.apache.pdfbox.rendering.PDFRenderer suggestKCMS\n",
      "INFO:   or call System.setProperty(\"sun.java2d.cmm\", \"sun.java2d.cmm.kcms.KcmsServiceProvider\")\n",
      "\n"
     ]
    }
   ],
   "source": [
    "import tabula\n",
    "import os\n",
    "file = \"/home/nesma/Desktop/Hackathon/bluesign-reference-list-total.pdf\"\n",
    "tables = tabula.read_pdf(file, pages=\"all\")\n"
   ]
  },
  {
   "cell_type": "code",
   "execution_count": 104,
   "id": "established-campus",
   "metadata": {},
   "outputs": [
    {
     "name": "stderr",
     "output_type": "stream",
     "text": [
      "Got stderr: Mar 18, 2021 8:49:51 PM org.apache.pdfbox.rendering.PDFRenderer suggestKCMS\n",
      "INFO: Your current java version is: 1.8.0_181\n",
      "Mar 18, 2021 8:49:51 PM org.apache.pdfbox.rendering.PDFRenderer suggestKCMS\n",
      "INFO: To get higher rendering speed on old java 1.8 or 9 versions,\n",
      "Mar 18, 2021 8:49:51 PM org.apache.pdfbox.rendering.PDFRenderer suggestKCMS\n",
      "INFO:   update to the latest 1.8 or 9 version (>= 1.8.0_191 or >= 9.0.4),\n",
      "Mar 18, 2021 8:49:51 PM org.apache.pdfbox.rendering.PDFRenderer suggestKCMS\n",
      "INFO:   or\n",
      "Mar 18, 2021 8:49:51 PM org.apache.pdfbox.rendering.PDFRenderer suggestKCMS\n",
      "INFO:   use the option -Dsun.java2d.cmm=sun.java2d.cmm.kcms.KcmsServiceProvider\n",
      "Mar 18, 2021 8:49:51 PM org.apache.pdfbox.rendering.PDFRenderer suggestKCMS\n",
      "INFO:   or call System.setProperty(\"sun.java2d.cmm\", \"sun.java2d.cmm.kcms.KcmsServiceProvider\")\n",
      "\n"
     ]
    }
   ],
   "source": [
    "# print(\"Total tables extracted:\", tables)\n",
    "    \n",
    "tabula.convert_into(file, \"bluesign.csv\", output_format=\"csv\", pages=\"all\")\n"
   ]
  },
  {
   "cell_type": "code",
   "execution_count": 106,
   "id": "military-photography",
   "metadata": {},
   "outputs": [
    {
     "name": "stderr",
     "output_type": "stream",
     "text": [
      "Got stderr: Mar 18, 2021 8:54:42 PM org.apache.pdfbox.rendering.PDFRenderer suggestKCMS\n",
      "INFO: Your current java version is: 1.8.0_181\n",
      "Mar 18, 2021 8:54:42 PM org.apache.pdfbox.rendering.PDFRenderer suggestKCMS\n",
      "INFO: To get higher rendering speed on old java 1.8 or 9 versions,\n",
      "Mar 18, 2021 8:54:42 PM org.apache.pdfbox.rendering.PDFRenderer suggestKCMS\n",
      "INFO:   update to the latest 1.8 or 9 version (>= 1.8.0_191 or >= 9.0.4),\n",
      "Mar 18, 2021 8:54:42 PM org.apache.pdfbox.rendering.PDFRenderer suggestKCMS\n",
      "INFO:   or\n",
      "Mar 18, 2021 8:54:42 PM org.apache.pdfbox.rendering.PDFRenderer suggestKCMS\n",
      "INFO:   use the option -Dsun.java2d.cmm=sun.java2d.cmm.kcms.KcmsServiceProvider\n",
      "Mar 18, 2021 8:54:42 PM org.apache.pdfbox.rendering.PDFRenderer suggestKCMS\n",
      "INFO:   or call System.setProperty(\"sun.java2d.cmm\", \"sun.java2d.cmm.kcms.KcmsServiceProvider\")\n",
      "\n"
     ]
    }
   ],
   "source": [
    "file2 = \"/home/nesma/Desktop/Hackathon/Signatories_Fashion_Pact_12-10-20-pdf.pdf\"\n",
    "test = tabula.read_pdf(file2, pages=\"all\")\n"
   ]
  },
  {
   "cell_type": "markdown",
   "id": "satisfied-establishment",
   "metadata": {},
   "source": [
    "## Scrape fashionpact website"
   ]
  },
  {
   "cell_type": "code",
   "execution_count": 118,
   "id": "legendary-strength",
   "metadata": {},
   "outputs": [
    {
     "name": "stdout",
     "output_type": "stream",
     "text": [
      "['ADIDAS', 'AIGLE', 'ALDO GROUP', 'ASICS', 'AUCHAN RETAIL', 'BALLY', 'BESSON CHAUSSURES', 'BESTSELLER', 'BONAVERI', 'BURBERRY', 'CALZEDONIA GROUP', 'CAPRI HOLDINGS LIMITED', 'CARREFOUR', 'CHANEL', 'CHLOE', 'CELIO', 'DAMARTEX GROUP', 'DCM JENNYFER', 'DECATHLON', 'DESIGUAL', 'DIESEL', 'EL CORTE INGLES', 'ERALDA', 'ERMENEGILDO ZEGNA', 'EVERYBODY & EVERYONE', 'FARFETCH', 'FASHION3', 'FUNG GROUP', 'GANT', 'GROUPE GALERIES LAFAYETTE', 'GAP Inc.', 'GEOX', 'GROUPE BEAUMANOIR', 'GROUPE ERAM', 'GROUPE ETAM', 'GROUPE IDKIDS', 'GROUPE ROSSIGNOL', 'GRUPPO ARMANI', 'HANS BOODT MANNEQUINS', 'H&M GROUP', 'HERMES', 'HERNO', 'HOUSE OF BAUKJEN', 'INDITEX', 'KARL LAGERFELD', 'KERING', 'KIABI', 'LACOSTE', 'MANGO', 'MATCHESFASHION.COM', 'MONCLER', 'MONOPRIX', 'NIKE', 'NOABRANDS', 'NORDSTROM', 'PAUL & JOE', 'PRADA S.p.A.', 'PROMOD', 'PUMA SE', 'PVH Corp.', 'RALPH LAUREN', 'RUYI', 'SALVATORE FERRAGAMO', 'SELFRIDGES GROUP', 'STELLA MCCARTNEY', 'TAPESTRY', 'TENDAM']\n"
     ]
    }
   ],
   "source": [
    "from lxml import html\n",
    "import requests\n",
    "page = requests.get(\"https://thefashionpact.org/?lang=en\")\n",
    "tree = html.fromstring(page.content)\n",
    "fashion_pact = tree.xpath('//ul[@class=\"list_profil\"]//li//text()')\n",
    "print(fashion_pact)\n"
   ]
  },
  {
   "cell_type": "code",
   "execution_count": 119,
   "id": "objective-monte",
   "metadata": {},
   "outputs": [],
   "source": [
    "#Save CSV file\n",
    "import pandas as pd\n",
    "df = pd.DataFrame(fashion_pact)  \n",
    "df.to_csv('/home/nesma/Desktop/Hackathon/fashionPact.csv') "
   ]
  },
  {
   "cell_type": "markdown",
   "id": "separate-kernel",
   "metadata": {},
   "source": [
    "## Scrape Climate initiatieves platform"
   ]
  },
  {
   "cell_type": "code",
   "execution_count": 204,
   "id": "detailed-annotation",
   "metadata": {},
   "outputs": [
    {
     "name": "stdout",
     "output_type": "stream",
     "text": [
      "[\" Adidas AG (Germany),Aquitex S.A. (Portugal),Arc'teryx (Canada),Burberry (United Kingdom of Great Britain and Northern Ireland),Esprit (Germany),Gap Inc. (United States of America),Guess?,Inc. (United States of America),Hakro GmbH (Germany),H&M group (Sweden),Hugo Boss AG (Germany),Inditex (Spain),Kering Group  (France),Lenzing AG (Austria),Levi Strauss & Co (United States of America),A. P. Møller-Mærsk A/S (Denmark),Mammut sports Group AG (Switzerland),Mantis World (United Kingdom of Great Britain and Northern Ireland),Otto Group  (Germany),Peak Performance Production AB (Sweden),PVH Corp (United States of America),PIDIGI S.P.A. (Italy),PUMA SE (Germany),Re:newcell AB (Sweden),Salomon (France),Schoeller Texti AG (Switzerland),SKFK-Skunkfunk (Spain),SLN Tekstil ve Moda San. Tic. A.Ş  (Turkey),Stella McCartney (United Kingdom of Great Britain and Northern Ireland),Sympatex Technologies GmbH (Germany),Target Corporation (United States of America),Tropic Knits Ltd (Mauritius),Evea Eco Fashion (Peru),LIMY Inc dba Reformation (United States of America),DBL Group (Bangladesh),Worn Again (United Kingdom of Great Britain and Northern Ireland),BerBrand Srl (Italy),Denim Expert  Limited (Bangladesh),Textil Santanderina,S.A. (Spain),COFREET (France),VF Corporation (United States of America),GANNI (Denmark),GANT AB (Sweden),Regatta Group (United Kingdom of Great Britain and Northern Ireland),New Balance Athletics,Inc. (United States of America),TINTEX Textiles,S.A. (Portugal),Vivida Lifestyle Ltd (United Kingdom of Great Britain and Northern Ireland),NIKE,Inc (United States of America),The RealReal (United States of America),Fenix Outdoor International AG (Switzerland),Pattern SpA. (Italy),DECATHLON (France),Circular Systems SPC (United States of America),Loomstate (United States of America),G-Star RAW C.V. (Netherlands),Hansoll Textile Ltd. (Republic of Korea),KiK Textilien und Non-Food GmbH  (Germany),John Smedley Ltd (United Kingdom of Great Britain and Northern Ireland),Anko (Australia),Target Australia (Australia),Kmart Australia Limited (Australia),ASICS Corporation (Japan),El Corte Inglés,SA. (Spain),Farfetch (United Kingdom of Great Britain and Northern Ireland),Lever Style Inc.  (China),Hop Lun (Hong Kong) Ltd.  (Hong Kong,China),CAPRANEA SPORTS AG  (Switzerland),Hong Kong Non-Woven Fabric Ind. Co. Ltd.  (Hong Kong,China),American & Efird (HK) Ltd. (Hong Kong,China),Clover Group International Ltd (Hong Kong,China),Hanbo Enterprises Ltd. (Hong Kong,China),Pinneco Research Ltd. (Hong Kong,China),TAL Apparel Ltd. (Hong Kong,China),K-Boxing  (China),Chenfeng Group Co.,Ltd (China),The Schneider Group (Italy),RT Knits Ltd  (Mauritius),The Renewal Workshop (United States of America),ALDO Group  (Canada),Lojas Renner (Brazil),Ralph Lauren (United States of America),Mulberry (United Kingdom of Great Britain and Northern Ireland),Shokay (China),Groupe Rossignol (France),Elevate Textiles (United States of America),Craghoppers Ltd (United Kingdom of Great Britain and Northern Ireland),Reserva (Brazil),American Eagle Outfitters (United States of America),CHANEL (France),Fast Retailing  (Japan),Fossil Group  (Hong Kong,China),LT.BO srl (Italy),YKK Corporation  (Japan),Tendam Global Fashion Retail  (Spain),Workout Empire (Sweden),SunRise Group (China),Tchibo GmbH (Germany),Tom Tailor Group (Germany),Sateri (China),Asia Pacific Rayon (Singapore),Lululemon (Canada),R-Collective (Hong Kong),Aigle (France),Dai Wear (United Kingdom),Artistic Milliners (Pakistan)\\n\"]\n"
     ]
    }
   ],
   "source": [
    "from lxml import html\n",
    "import requests\n",
    "fashion_pact = []\n",
    "page = requests.get(\"http://climateinitiativesplatform.org/index.php/Fashion_Industry_Charter_for_Climate_Action\")\n",
    "tree = html.fromstring(page.content)\n",
    "climate_initiatives = tree.xpath('//tr[3]//td[3]//text()')\n",
    "print(climate_initiatives)"
   ]
  },
  {
   "cell_type": "code",
   "execution_count": 205,
   "id": "waiting-delaware",
   "metadata": {},
   "outputs": [
    {
     "data": {
      "text/html": [
       "<div>\n",
       "<style scoped>\n",
       "    .dataframe tbody tr th:only-of-type {\n",
       "        vertical-align: middle;\n",
       "    }\n",
       "\n",
       "    .dataframe tbody tr th {\n",
       "        vertical-align: top;\n",
       "    }\n",
       "\n",
       "    .dataframe thead th {\n",
       "        text-align: right;\n",
       "    }\n",
       "</style>\n",
       "<table border=\"1\" class=\"dataframe\">\n",
       "  <thead>\n",
       "    <tr style=\"text-align: right;\">\n",
       "      <th></th>\n",
       "      <th>Company</th>\n",
       "      <th>Country</th>\n",
       "    </tr>\n",
       "  </thead>\n",
       "  <tbody>\n",
       "    <tr>\n",
       "      <th>0</th>\n",
       "      <td>Adidas AG</td>\n",
       "      <td>Germany</td>\n",
       "    </tr>\n",
       "    <tr>\n",
       "      <th>1</th>\n",
       "      <td>Aquitex S.A.</td>\n",
       "      <td>Portugal</td>\n",
       "    </tr>\n",
       "    <tr>\n",
       "      <th>2</th>\n",
       "      <td>Arc'teryx</td>\n",
       "      <td>Canada</td>\n",
       "    </tr>\n",
       "    <tr>\n",
       "      <th>3</th>\n",
       "      <td>Burberry</td>\n",
       "      <td>United Kingdom of Great Britain and Northern I...</td>\n",
       "    </tr>\n",
       "    <tr>\n",
       "      <th>4</th>\n",
       "      <td>Esprit</td>\n",
       "      <td>Germany</td>\n",
       "    </tr>\n",
       "    <tr>\n",
       "      <th>...</th>\n",
       "      <td>...</td>\n",
       "      <td>...</td>\n",
       "    </tr>\n",
       "    <tr>\n",
       "      <th>114</th>\n",
       "      <td>Lululemon</td>\n",
       "      <td>Canada</td>\n",
       "    </tr>\n",
       "    <tr>\n",
       "      <th>115</th>\n",
       "      <td>R-Collective</td>\n",
       "      <td>Hong Kong</td>\n",
       "    </tr>\n",
       "    <tr>\n",
       "      <th>116</th>\n",
       "      <td>Aigle</td>\n",
       "      <td>France</td>\n",
       "    </tr>\n",
       "    <tr>\n",
       "      <th>117</th>\n",
       "      <td>Dai Wear</td>\n",
       "      <td>United Kingdom</td>\n",
       "    </tr>\n",
       "    <tr>\n",
       "      <th>118</th>\n",
       "      <td>Artistic Milliners</td>\n",
       "      <td>Pakistan</td>\n",
       "    </tr>\n",
       "  </tbody>\n",
       "</table>\n",
       "<p>119 rows × 2 columns</p>\n",
       "</div>"
      ],
      "text/plain": [
       "                 Company                                            Country\n",
       "0             Adidas AG                                             Germany\n",
       "1          Aquitex S.A.                                            Portugal\n",
       "2             Arc'teryx                                              Canada\n",
       "3              Burberry   United Kingdom of Great Britain and Northern I...\n",
       "4                Esprit                                             Germany\n",
       "..                   ...                                                ...\n",
       "114           Lululemon                                              Canada\n",
       "115        R-Collective                                           Hong Kong\n",
       "116               Aigle                                              France\n",
       "117            Dai Wear                                      United Kingdom\n",
       "118  Artistic Milliners                                            Pakistan\n",
       "\n",
       "[119 rows x 2 columns]"
      ]
     },
     "execution_count": 205,
     "metadata": {},
     "output_type": "execute_result"
    }
   ],
   "source": [
    "#clean data \n",
    "climate_initiativesdf = pd.DataFrame(climate_initiatives[0].split(\",\")) \n",
    "climate_initiativesdf.columns= [\"all\"]\n",
    "\n",
    "climate_initiativesdf[['Company','Country']] = climate_initiativesdf[\"all\"].str.split(\"(\",1,expand=True) \n",
    "climate_initiativesdf= climate_initiativesdf.drop('all', 1)\n",
    "climate_initiativesdf[\"Country\"] = climate_initiativesdf[\"Country\"].str.split(')',1,expand=True)[0]\n",
    "climate_initiativesdf"
   ]
  },
  {
   "cell_type": "code",
   "execution_count": 206,
   "id": "super-money",
   "metadata": {},
   "outputs": [],
   "source": [
    "climate_initiativesdf.to_csv(\"/home/nesma/Desktop/Hackathon/ClimateInitiatieves.csv\")"
   ]
  },
  {
   "cell_type": "code",
   "execution_count": 202,
   "id": "metallic-retrieval",
   "metadata": {},
   "outputs": [],
   "source": []
  }
 ],
 "metadata": {
  "kernelspec": {
   "display_name": "Python 3",
   "language": "python",
   "name": "python3"
  },
  "language_info": {
   "codemirror_mode": {
    "name": "ipython",
    "version": 3
   },
   "file_extension": ".py",
   "mimetype": "text/x-python",
   "name": "python",
   "nbconvert_exporter": "python",
   "pygments_lexer": "ipython3",
   "version": "3.8.8"
  }
 },
 "nbformat": 4,
 "nbformat_minor": 5
}
